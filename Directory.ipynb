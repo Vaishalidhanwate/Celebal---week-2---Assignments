{
 "cells": [
  {
   "cell_type": "code",
   "execution_count": 1,
   "id": "56bae10b",
   "metadata": {},
   "outputs": [
    {
     "ename": "SyntaxError",
     "evalue": "unexpected EOF while parsing (Temp/ipykernel_10256/2196850270.py, line 12)",
     "output_type": "error",
     "traceback": [
      "\u001b[1;36m  File \u001b[1;32m\"C:\\Users\\DHANWA~1\\AppData\\Local\\Temp/ipykernel_10256/2196850270.py\"\u001b[1;36m, line \u001b[1;32m12\u001b[0m\n\u001b[1;33m    @person_lister\u001b[0m\n\u001b[1;37m                  ^\u001b[0m\n\u001b[1;31mSyntaxError\u001b[0m\u001b[1;31m:\u001b[0m unexpected EOF while parsing\n"
     ]
    }
   ],
   "source": [
    "import operator\n",
    "def age(x):\n",
    "    return int(x[2])\n",
    "\n",
    "def person_lister(f):\n",
    "    def inner(people):\n",
    "        return map(f,sorted(people, key=age))\n",
    "    return inner\n",
    "\n",
    "\n",
    "\n",
    "@person_lister"
   ]
  },
  {
   "cell_type": "code",
   "execution_count": null,
   "id": "8edf7775",
   "metadata": {},
   "outputs": [],
   "source": []
  }
 ],
 "metadata": {
  "kernelspec": {
   "display_name": "Python 3 (ipykernel)",
   "language": "python",
   "name": "python3"
  },
  "language_info": {
   "codemirror_mode": {
    "name": "ipython",
    "version": 3
   },
   "file_extension": ".py",
   "mimetype": "text/x-python",
   "name": "python",
   "nbconvert_exporter": "python",
   "pygments_lexer": "ipython3",
   "version": "3.9.7"
  }
 },
 "nbformat": 4,
 "nbformat_minor": 5
}
